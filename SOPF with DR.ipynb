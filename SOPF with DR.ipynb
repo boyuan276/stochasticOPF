{
 "cells": [
  {
   "cell_type": "code",
   "execution_count": 139,
   "metadata": {},
   "outputs": [],
   "source": [
    "from pyomo.environ import *\n",
    "import numpy as np\n",
    "import random\n",
    "import math\n",
    "import pandas as pd\n",
    "# General information\n",
    "weather_data = pd.read_csv (r'C:\\Users\\aliam\\Documents\\University\\PhD\\Courses\\Computational Optimization\\Project\\Data\\NYC_Hourly_Normal_Temp.csv')\n",
    "#print(weather_data)\n",
    "NG = 2 # Number of generators\n",
    "NW = 1 # Number of wind farms\n",
    "NL = 2 # Number of loads\n",
    "PG_down = np.zeros(NG)\n",
    "PG_up = np.array([163,85]) # BO: please correct/complete it\n",
    "#CG = np.array    Bo\n",
    "#CL = np.array   Bo\n",
    "#CW = np.array Bo\n",
    "#B = Bo\n",
    "#F = Bo\n",
    "Tamb = (weather_data.iloc[:,8] - 32)/1.8\n",
    "Tamb_min = min(Tamb)\n",
    "Tamb_10PCTL = (weather_data.iloc[:,6] - 32)/1.8\n",
    "Tamb_90PCTL = (weather_data.iloc[:,7] - 32)/1.8\n",
    "std_Tamb_10PCTL = (Tamb - Tamb_10PCTL)/1.282 \n",
    "std_Tamb_90PCTL = (Tamb_90PCTL - Tamb)/1.282 \n",
    "std_Tamb = (std_Tamb_10PCTL + std_Tamb_90PCTL)/2\n",
    "#PW = Bo \n",
    "# Parameters related to the demand side\n",
    "num_TCL = 1000\n",
    "Tset = np.zeros((num_TCL,NL))\n",
    "R = np.zeros((num_TCL,NL))\n",
    "C = np.zeros((num_TCL,NL))\n",
    "COP = np.zeros((num_TCL,NL))\n",
    "P_el = np.zeros((num_TCL,NL))\n",
    "Tset_set = [21,21.5,22,22.5,23]\n",
    "for i in range(num_TCL): \n",
    "    for j in range(NL):\n",
    "        s = random.sample(Tset_set,1)\n",
    "        Tset[i,j] = s[0] \n",
    "delta = 1\n",
    "R_nom = 2\n",
    "R_low = 0.8*R_nom\n",
    "R_high = 1.2*R_nom\n",
    "C_nom = 2\n",
    "C_low = 0.8*C_nom\n",
    "C_high = 1.2*C_nom\n",
    "COP_nom = 2.5\n",
    "COP_low = 0.8*COP_nom\n",
    "COP_high = 1.2*COP_nom\n",
    "for i in range(NL): \n",
    "    R[:,i] = np.random.uniform(R_low,R_high,num_TCL)\n",
    "    C[:,i] = np.random.uniform(C_low,C_high,num_TCL)\n",
    "    COP[:,i] = np.random.uniform(COP_low,COP_high,num_TCL)\n",
    "    for j in range(num_TCL):\n",
    "        P_el[j,i] = math.ceil((Tset[j,i] + delta/2 - Tamb_min)/(R[j,i]*COP[j,i])) + 1\n",
    "# Sampling\n",
    "eps = 0.1\n",
    "beta = 0.1\n",
    "num_decision_variables = 5*NG + 5*NL\n",
    "num_samples = math.ceil((2/eps)*(np.log(1/beta) + num_decision_variables))\n",
    "i = 0\n",
    "mu_Tamb = Tamb[i]\n",
    "sigma_Tamb = std_Tamb[i] \n",
    "Tamb_sample = np.random.normal(mu_Tamb,sigma_Tamb,num_samples)\n",
    "#PW_sample = random.sample(PW,num_samples)"
   ]
  },
  {
   "cell_type": "code",
   "execution_count": 142,
   "metadata": {},
   "outputs": [],
   "source": [
    "def VS(dt,Tamb,num_TCL,Tset,delta,R,C,P_el,COP):\n",
    "    Tdown = np.zeros(num_TCL)\n",
    "    Tup = np.zeros(num_TCL)\n",
    "    T_ON = np.zeros(num_TCL)\n",
    "    T_OFF = np.zeros(num_TCL)\n",
    "    D = np.zeros(num_TCL)\n",
    "    B = 0\n",
    "    Pdown = 0\n",
    "    Pup = 0\n",
    "    Sdown = 0\n",
    "    Sup = 0\n",
    "    for i in range(0,num_TCL):\n",
    "        Tdown[i] = Tset[i] - delta/2\n",
    "        Tup[i] = Tset[i] + delta/2\n",
    "        T_ON[i] = C[i]*R[i]*np.log((Tdown[i] - Tamb - R[i]*P_el[i]*COP[i])/(Tup[i] - Tamb - R[i]*P_el[i]*COP[i]));\n",
    "        if ((Tdown[i] - Tamb - R[i]*P_el[i]*COP[i])/(Tup[i] - Tamb - R[i]*P_el[i]*COP[i]) < 0):\n",
    "            print(Tdown[i] - Tamb - R[i]*P_el[i]*COP[i])\n",
    "            print(Tup[i] - Tamb - R[i]*P_el[i]*COP[i])\n",
    "        T_OFF[i] = C[i]*R[i]*np.log((Tup[i] - Tamb)/(Tdown[i] - Tamb));\n",
    "        D[i] = T_ON[i]/(T_ON[i] + T_OFF[i])\n",
    "        if ( Tamb < Tdown[i] and Tamb + R[i]*P_el[i]*COP[i] > Tup[i] ):\n",
    "            B = B + P_el[i]*D[i]\n",
    "            Pup = Pup + P_el[i]\n",
    "            Sup = Sup + dt*P_el[i]*(1 - D[i])\n",
    "    return [B,Pdown,Pup,Sdown,Sup]"
   ]
  },
  {
   "cell_type": "code",
   "execution_count": 144,
   "metadata": {},
   "outputs": [
    {
     "name": "stdout",
     "output_type": "stream",
     "text": [
      "5140.310289916811\n"
     ]
    }
   ],
   "source": [
    "ali = VS(0.25,-3,num_TCL,Tset[:,0],delta,R[:,0],C[:,0],P_el[:,0],COP[:,0])\n",
    "print(ali[0])\n",
    "#VS(dt,Tamb,num_TCL,Tset,delta,R,C,P_el,COP):"
   ]
  },
  {
   "cell_type": "code",
   "execution_count": 140,
   "metadata": {},
   "outputs": [
    {
     "ename": "SyntaxError",
     "evalue": "invalid syntax (<ipython-input-140-ab3da8189428>, line 28)",
     "output_type": "error",
     "traceback": [
      "\u001b[1;36m  File \u001b[1;32m\"<ipython-input-140-ab3da8189428>\"\u001b[1;36m, line \u001b[1;32m28\u001b[0m\n\u001b[1;33m    PW_f = #Bo\u001b[0m\n\u001b[1;37m           ^\u001b[0m\n\u001b[1;31mSyntaxError\u001b[0m\u001b[1;31m:\u001b[0m invalid syntax\n"
     ]
    }
   ],
   "source": [
    "# Optimization: Problem formulation\n",
    "def optimizer(NG,NL,Tamb_sample,num_TCL,Tset,delta,R,C,P_el,COP,S0):\n",
    "    model = ConcreteModel()\n",
    "    # Defining the variables\n",
    "    model.PG = Var(range(NG),within = NonNegativeReals)\n",
    "    model.PC = Var(range(NL),within = NonNegativeReals)\n",
    "    model.RG_down = Var(range(NG),within = NonNegativeReals)\n",
    "    model.RG_up = Var(range(NG),within = NonNegativeReals)\n",
    "    model.RG = Var(range(NG),within = NonNegativeReals)\n",
    "    model.RL_down = Var(range(NL),within = NonNegativeReals)\n",
    "    model.RL_up = Var(range(NL),within = NonNegativeReals)\n",
    "    model.RL = Var(range(NL),within = NonNegativeReals)\n",
    "    model.dG_down = Var(range(NG),within = NonNegativeReals)\n",
    "    model.dG_up = Var(range(NG),within = NonNegativeReals)\n",
    "    model.dL_down = Var(range(NL),within = NonNegativeReals)\n",
    "    model.dL_up = Var(range(NL),within = NonNegativeReals)\n",
    "    model.P_mis = Var()\n",
    "    # Defining the deterministic constraints\n",
    "    model.c = ConstraintList()\n",
    "    for i in range(NG):\n",
    "        model.c.add(model.PG[i] + model.RG[i] >= PG_down[i])\n",
    "        model.c.add(model.PG[i] + model.RG[i] <= PG_up[i])\n",
    "        model.c.add(model.RG[i] >= -model.RG_down[i])\n",
    "        model.c.add(model.RG[i] <= model.RG_up[i])\n",
    "    model.c.add.(sum(model.dG_down[i] for i in range(NG)) + sum(model.dL_up[j] for j in range(NL)) == 1)\n",
    "    model.c.add.(sum(model.dG_up[i] for i in range(NG)) + sum(model.dL_down[j] for j in range(NL)) == 1)\n",
    "    # Defining the CC constraints\n",
    "    for i in range(num_samples):\n",
    "        P_mis_wind = 0\n",
    "        PW_f = #Bo\n",
    "        P_mis_wind = P_mis_wind + (PW_sample[i] - PW_f)\n",
    "        P_mis_load = 0\n",
    "        for j in range(NL):\n",
    "            identified_VS = VS(0.25,Tamb_sample[j],num_TCL,Tset[:,j],delta,R[:,j],C[:,j],P_el[:,j],COP[:,j])\n",
    "            P_mis_load = P_mis_load + (model.PC[j] - identified_VS[0])\n",
    "        model.P_mis = P_mis_wind - P_mis_load\n",
    "        model.c.add(model.RG[i] == model.dG_up[i]*max(-model.P_mis,0) - model.dG_down[i]*max(model.P_mis,0))\n",
    "        for j in range(NL):\n",
    "            model.c.add(model.RL[j] == model.dL_up[j]*max(model.P_mis,0) - model.dL_down[j]*max(-model.P_mis,0))\n",
    "            identified_VS = VS(0.25,Tamb_sample[j],num_TCL,Tset[:,j],delta,R[:,j],C[:,j],P_el[:,j],COP[:,j])\n",
    "            model.c.add(model.PC[i] + model.RL[i] >= identified_VS[1])\n",
    "            model.c.add(model.PC[i] + model.RL[i] <= identified_VS[2])\n",
    "                model.c.add(model.RL[i] >= -model.RL_down[i])\n",
    "                model.c.add(model.RL[i] <= model.RL_up[i])\n",
    "                model.c.add(S0 + 0.25*(model.PC[i] + model.RL[i] - identified_VS[0]) >= identified_VS[3])\n",
    "                model.c.add(S0 + 0.25*(model.PC[i] + model.RL[i] - identified_VS[0]) <= identified_VS[4])\n",
    "                model.c.add(S0 + 0.75*(model.PC[i] - identified_VS[0]) + 0.25*(model.PC[i] + model.RL[i] - identified_VS[0]) >= identified_VS[3])\n",
    "                model.c.add(S0 + 0.75*(model.PC[i] - identified_VS[0]) + 0.25*(model.PC[i] + model.RL[i] - identified_VS[0]) <= identified_VS[4])         \n",
    "    return model     "
   ]
  },
  {
   "cell_type": "code",
   "execution_count": 141,
   "metadata": {},
   "outputs": [
    {
     "ename": "IndexError",
     "evalue": "index 2 is out of bounds for axis 0 with size 2",
     "output_type": "error",
     "traceback": [
      "\u001b[1;31m---------------------------------------------------------------------------\u001b[0m",
      "\u001b[1;31mIndexError\u001b[0m                                Traceback (most recent call last)",
      "\u001b[1;32m<ipython-input-141-7c6416d8e20d>\u001b[0m in \u001b[0;36m<module>\u001b[1;34m\u001b[0m\n\u001b[1;32m----> 1\u001b[1;33m \u001b[0mali\u001b[0m \u001b[1;33m=\u001b[0m \u001b[0mVS\u001b[0m\u001b[1;33m(\u001b[0m\u001b[1;36m0.25\u001b[0m\u001b[1;33m,\u001b[0m\u001b[1;33m-\u001b[0m\u001b[1;36m3\u001b[0m\u001b[1;33m,\u001b[0m\u001b[0mnum_TCL\u001b[0m\u001b[1;33m,\u001b[0m\u001b[0mTset\u001b[0m\u001b[1;33m[\u001b[0m\u001b[1;36m0\u001b[0m\u001b[1;33m,\u001b[0m\u001b[1;33m:\u001b[0m\u001b[1;33m]\u001b[0m\u001b[1;33m,\u001b[0m\u001b[0mdelta\u001b[0m\u001b[1;33m,\u001b[0m\u001b[0mR\u001b[0m\u001b[1;33m[\u001b[0m\u001b[1;36m0\u001b[0m\u001b[1;33m,\u001b[0m\u001b[1;33m:\u001b[0m\u001b[1;33m]\u001b[0m\u001b[1;33m,\u001b[0m\u001b[0mC\u001b[0m\u001b[1;33m[\u001b[0m\u001b[1;36m0\u001b[0m\u001b[1;33m,\u001b[0m\u001b[1;33m:\u001b[0m\u001b[1;33m]\u001b[0m\u001b[1;33m,\u001b[0m\u001b[0mP_el\u001b[0m\u001b[1;33m[\u001b[0m\u001b[1;36m0\u001b[0m\u001b[1;33m,\u001b[0m\u001b[1;33m:\u001b[0m\u001b[1;33m]\u001b[0m\u001b[1;33m,\u001b[0m\u001b[0mCOP\u001b[0m\u001b[1;33m[\u001b[0m\u001b[1;36m0\u001b[0m\u001b[1;33m,\u001b[0m\u001b[1;33m:\u001b[0m\u001b[1;33m]\u001b[0m\u001b[1;33m)\u001b[0m\u001b[1;33m\u001b[0m\u001b[1;33m\u001b[0m\u001b[0m\n\u001b[0m\u001b[0;32m      2\u001b[0m \u001b[0mprint\u001b[0m\u001b[1;33m(\u001b[0m\u001b[0mali\u001b[0m\u001b[1;33m[\u001b[0m\u001b[1;36m0\u001b[0m\u001b[1;33m]\u001b[0m\u001b[1;33m)\u001b[0m\u001b[1;33m\u001b[0m\u001b[1;33m\u001b[0m\u001b[0m\n\u001b[0;32m      3\u001b[0m \u001b[1;31m#VS(dt,Tamb,num_TCL,Tset,delta,R,C,P_el,COP):\u001b[0m\u001b[1;33m\u001b[0m\u001b[1;33m\u001b[0m\u001b[1;33m\u001b[0m\u001b[0m\n",
      "\u001b[1;32m<ipython-input-125-f37babdb3ed0>\u001b[0m in \u001b[0;36mVS\u001b[1;34m(dt, Tamb, num_TCL, Tset, delta, R, C, P_el, COP)\u001b[0m\n\u001b[0;32m     11\u001b[0m     \u001b[0mSup\u001b[0m \u001b[1;33m=\u001b[0m \u001b[1;36m0\u001b[0m\u001b[1;33m\u001b[0m\u001b[1;33m\u001b[0m\u001b[0m\n\u001b[0;32m     12\u001b[0m     \u001b[1;32mfor\u001b[0m \u001b[0mi\u001b[0m \u001b[1;32min\u001b[0m \u001b[0mrange\u001b[0m\u001b[1;33m(\u001b[0m\u001b[1;36m0\u001b[0m\u001b[1;33m,\u001b[0m\u001b[0mnum_TCL\u001b[0m\u001b[1;33m)\u001b[0m\u001b[1;33m:\u001b[0m\u001b[1;33m\u001b[0m\u001b[1;33m\u001b[0m\u001b[0m\n\u001b[1;32m---> 13\u001b[1;33m         \u001b[0mTdown\u001b[0m\u001b[1;33m[\u001b[0m\u001b[0mi\u001b[0m\u001b[1;33m]\u001b[0m \u001b[1;33m=\u001b[0m \u001b[0mTset\u001b[0m\u001b[1;33m[\u001b[0m\u001b[0mi\u001b[0m\u001b[1;33m]\u001b[0m \u001b[1;33m-\u001b[0m \u001b[0mdelta\u001b[0m\u001b[1;33m/\u001b[0m\u001b[1;36m2\u001b[0m\u001b[1;33m\u001b[0m\u001b[1;33m\u001b[0m\u001b[0m\n\u001b[0m\u001b[0;32m     14\u001b[0m         \u001b[0mTup\u001b[0m\u001b[1;33m[\u001b[0m\u001b[0mi\u001b[0m\u001b[1;33m]\u001b[0m \u001b[1;33m=\u001b[0m \u001b[0mTset\u001b[0m\u001b[1;33m[\u001b[0m\u001b[0mi\u001b[0m\u001b[1;33m]\u001b[0m \u001b[1;33m+\u001b[0m \u001b[0mdelta\u001b[0m\u001b[1;33m/\u001b[0m\u001b[1;36m2\u001b[0m\u001b[1;33m\u001b[0m\u001b[1;33m\u001b[0m\u001b[0m\n\u001b[0;32m     15\u001b[0m         \u001b[0mT_ON\u001b[0m\u001b[1;33m[\u001b[0m\u001b[0mi\u001b[0m\u001b[1;33m]\u001b[0m \u001b[1;33m=\u001b[0m \u001b[0mC\u001b[0m\u001b[1;33m[\u001b[0m\u001b[0mi\u001b[0m\u001b[1;33m]\u001b[0m\u001b[1;33m*\u001b[0m\u001b[0mR\u001b[0m\u001b[1;33m[\u001b[0m\u001b[0mi\u001b[0m\u001b[1;33m]\u001b[0m\u001b[1;33m*\u001b[0m\u001b[0mnp\u001b[0m\u001b[1;33m.\u001b[0m\u001b[0mlog\u001b[0m\u001b[1;33m(\u001b[0m\u001b[1;33m(\u001b[0m\u001b[0mTdown\u001b[0m\u001b[1;33m[\u001b[0m\u001b[0mi\u001b[0m\u001b[1;33m]\u001b[0m \u001b[1;33m-\u001b[0m \u001b[0mTamb\u001b[0m \u001b[1;33m-\u001b[0m \u001b[0mR\u001b[0m\u001b[1;33m[\u001b[0m\u001b[0mi\u001b[0m\u001b[1;33m]\u001b[0m\u001b[1;33m*\u001b[0m\u001b[0mP_el\u001b[0m\u001b[1;33m[\u001b[0m\u001b[0mi\u001b[0m\u001b[1;33m]\u001b[0m\u001b[1;33m*\u001b[0m\u001b[0mCOP\u001b[0m\u001b[1;33m[\u001b[0m\u001b[0mi\u001b[0m\u001b[1;33m]\u001b[0m\u001b[1;33m)\u001b[0m\u001b[1;33m/\u001b[0m\u001b[1;33m(\u001b[0m\u001b[0mTup\u001b[0m\u001b[1;33m[\u001b[0m\u001b[0mi\u001b[0m\u001b[1;33m]\u001b[0m \u001b[1;33m-\u001b[0m \u001b[0mTamb\u001b[0m \u001b[1;33m-\u001b[0m \u001b[0mR\u001b[0m\u001b[1;33m[\u001b[0m\u001b[0mi\u001b[0m\u001b[1;33m]\u001b[0m\u001b[1;33m*\u001b[0m\u001b[0mP_el\u001b[0m\u001b[1;33m[\u001b[0m\u001b[0mi\u001b[0m\u001b[1;33m]\u001b[0m\u001b[1;33m*\u001b[0m\u001b[0mCOP\u001b[0m\u001b[1;33m[\u001b[0m\u001b[0mi\u001b[0m\u001b[1;33m]\u001b[0m\u001b[1;33m)\u001b[0m\u001b[1;33m)\u001b[0m\u001b[1;33m;\u001b[0m\u001b[1;33m\u001b[0m\u001b[1;33m\u001b[0m\u001b[0m\n",
      "\u001b[1;31mIndexError\u001b[0m: index 2 is out of bounds for axis 0 with size 2"
     ]
    }
   ],
   "source": []
  },
  {
   "cell_type": "code",
   "execution_count": 60,
   "metadata": {},
   "outputs": [
    {
     "data": {
      "text/plain": [
       "4"
      ]
     },
     "execution_count": 60,
     "metadata": {},
     "output_type": "execute_result"
    }
   ],
   "source": [
    "a = np.array([1, 0])\n",
    "b = np.array([4, 1])\n",
    "np.matmul(a,b)\n"
   ]
  },
  {
   "cell_type": "code",
   "execution_count": null,
   "metadata": {},
   "outputs": [],
   "source": []
  }
 ],
 "metadata": {
  "kernelspec": {
   "display_name": "Python 3",
   "language": "python",
   "name": "python3"
  },
  "language_info": {
   "codemirror_mode": {
    "name": "ipython",
    "version": 3
   },
   "file_extension": ".py",
   "mimetype": "text/x-python",
   "name": "python",
   "nbconvert_exporter": "python",
   "pygments_lexer": "ipython3",
   "version": "3.8.8"
  }
 },
 "nbformat": 4,
 "nbformat_minor": 4
}
