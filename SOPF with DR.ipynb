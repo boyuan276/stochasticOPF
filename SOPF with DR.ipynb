{
 "cells": [
  {
   "cell_type": "code",
   "execution_count": 3,
   "metadata": {},
   "outputs": [],
   "source": [
    "from pyomo.environ import *\n",
    "import numpy as np\n",
    "import random\n",
    "NG = 2 # Number of generators\n",
    "NW = 1 # Number of wind farms\n",
    "NL = 2 # Number of loads\n",
    "#CG = np.array    Bo\n",
    "#CL = np.array   Bo\n",
    "#CW = np.array Bo\n",
    "#B = Bo\n",
    "#F = Bo\n",
    "#Tamb = Bo/Ali\n",
    "# Parameters related to the demand side\n",
    "num_TCL = 1000\n",
    "Tset_set = [21,21.5,22,22.5,23]\n",
    "Tset = []\n",
    "for i in range(num_TCL):\n",
    "    s = random.sample(Tset_set,1)\n",
    "    s = s[0]\n",
    "    Tset.append(s)\n",
    "delta = \n",
    "R_nom = 2\n",
    "R_low = 0.8*R_nom\n",
    "R_high = 1.2*R_nom\n",
    "C_nom = 2\n",
    "C_low = 0.8*C_nom\n",
    "C_high = 1.2*C_nom\n",
    "P_el_nom = 5.6\n",
    "P_el_low = 0.8*P_el_nom\n",
    "P_el_high = 1.2*P_el_nom\n",
    "COP_nom = 2.5\n",
    "COP_low = 0.8*COP_nom\n",
    "COP_high = 1.2*COP_nom\n",
    "R = np.random.uniform(R_low,R_high,num_TCL)\n",
    "C = np.random.uniform(C_low,C_high,num_TCL)\n",
    "P_el = np.random.uniform(P_el_low,P_el_high,num_TCL)\n",
    "COP = np.random.uniform(COP_low,COP_high,num_TCL)"
   ]
  },
  {
   "cell_type": "code",
   "execution_count": 21,
   "metadata": {},
   "outputs": [],
   "source": [
    "def VS(dt,Tamb,num_TCL,Tset,delta,R,C,P_el,COP):\n",
    "    Tdown = np.zeros(num_TCL)\n",
    "    Tup = np.zeros(num_TCL)\n",
    "    T_ON = np.zeros(num_TCL)\n",
    "    T_OFF = np.zeros(num_TCL)\n",
    "    D = np.zeros(num_TCL)\n",
    "    B = 0\n",
    "    Pdown = 0\n",
    "    Pup = 0\n",
    "    Sdown = 0\n",
    "    Sup = 0\n",
    "    for i in range(0,num_TCL):\n",
    "        Tdown[i] = Tset[i] - delta/2\n",
    "        Tup[i] = Tset[i] + delta/2\n",
    "        T_ON[i] = C[i]*R[i]*np.log((Tdown[i] - Tamb - R[i]*P_el[i]*COP[i])/(Tup[i] - Tamb - R[i]*P_el[i]*COP[i]));\n",
    "        T_OFF[i] = C[i]*R[i]*np.log((Tup[i] - Tamb)/(Tdown[i] - Tamb));\n",
    "        D[i] = T_ON[i]/(T_ON[i] + T_OFF[i])\n",
    "        print(T_ON[i])\n",
    "        if ( Tamb < Tdown[i] and Tamb + R[i]*P_el[i]*COP[i] > Tup[i] ):\n",
    "            B = B + P_el[i]*D[i]\n",
    "            Pup = Pup + P_el[i]\n",
    "            Sup = Sup + dt*P_el[i]*(1 - D[i])\n",
    "    return [B,Pdown,Pup,Sdown,Sup]"
   ]
  },
  {
   "cell_type": "code",
   "execution_count": 22,
   "metadata": {},
   "outputs": [
    {
     "name": "stdout",
     "output_type": "stream",
     "text": [
      "-6.591673732008658\n",
      "-6.591673732008658\n",
      "0\n"
     ]
    }
   ],
   "source": [
    "ali = VS(0.25,-3,2,[22,22],1,[2,2],[3,3],[6,6],[2,2])\n",
    "print(ali[2])"
   ]
  },
  {
   "cell_type": "code",
   "execution_count": null,
   "metadata": {},
   "outputs": [],
   "source": []
  }
 ],
 "metadata": {
  "kernelspec": {
   "display_name": "Python 3",
   "language": "python",
   "name": "python3"
  },
  "language_info": {
   "codemirror_mode": {
    "name": "ipython",
    "version": 3
   },
   "file_extension": ".py",
   "mimetype": "text/x-python",
   "name": "python",
   "nbconvert_exporter": "python",
   "pygments_lexer": "ipython3",
   "version": "3.8.5"
  }
 },
 "nbformat": 4,
 "nbformat_minor": 4
}
