{
 "cells": [
  {
   "cell_type": "markdown",
   "metadata": {},
   "source": [
    "## Minimal three node network\n",
    "Here, we are going to create a network with three nodes, three lines and one generator. We then solve the non-linear power flow using a Newton-Raphson."
   ]
  },
  {
   "cell_type": "code",
   "execution_count": 1,
   "metadata": {},
   "outputs": [],
   "source": [
    "import pypsa\n",
    "import numpy as np"
   ]
  },
  {
   "cell_type": "code",
   "execution_count": 3,
   "metadata": {},
   "outputs": [
    {
     "data": {
      "text/html": [
       "<div>\n",
       "<style scoped>\n",
       "    .dataframe tbody tr th:only-of-type {\n",
       "        vertical-align: middle;\n",
       "    }\n",
       "\n",
       "    .dataframe tbody tr th {\n",
       "        vertical-align: top;\n",
       "    }\n",
       "\n",
       "    .dataframe thead th {\n",
       "        text-align: right;\n",
       "    }\n",
       "</style>\n",
       "<table border=\"1\" class=\"dataframe\">\n",
       "  <thead>\n",
       "    <tr style=\"text-align: right;\">\n",
       "      <th>attribute</th>\n",
       "      <th>v_nom</th>\n",
       "      <th>type</th>\n",
       "      <th>x</th>\n",
       "      <th>y</th>\n",
       "      <th>carrier</th>\n",
       "      <th>unit</th>\n",
       "      <th>v_mag_pu_set</th>\n",
       "      <th>v_mag_pu_min</th>\n",
       "      <th>v_mag_pu_max</th>\n",
       "      <th>control</th>\n",
       "      <th>sub_network</th>\n",
       "    </tr>\n",
       "  </thead>\n",
       "  <tbody>\n",
       "    <tr>\n",
       "      <th>My bus 0</th>\n",
       "      <td>20.0</td>\n",
       "      <td></td>\n",
       "      <td>0.0</td>\n",
       "      <td>0.0</td>\n",
       "      <td>AC</td>\n",
       "      <td>None</td>\n",
       "      <td>1.0</td>\n",
       "      <td>0.0</td>\n",
       "      <td>inf</td>\n",
       "      <td>PQ</td>\n",
       "      <td></td>\n",
       "    </tr>\n",
       "    <tr>\n",
       "      <th>My bus 1</th>\n",
       "      <td>20.0</td>\n",
       "      <td></td>\n",
       "      <td>0.0</td>\n",
       "      <td>0.0</td>\n",
       "      <td>AC</td>\n",
       "      <td>None</td>\n",
       "      <td>1.0</td>\n",
       "      <td>0.0</td>\n",
       "      <td>inf</td>\n",
       "      <td>PQ</td>\n",
       "      <td></td>\n",
       "    </tr>\n",
       "    <tr>\n",
       "      <th>My bus 2</th>\n",
       "      <td>20.0</td>\n",
       "      <td></td>\n",
       "      <td>0.0</td>\n",
       "      <td>0.0</td>\n",
       "      <td>AC</td>\n",
       "      <td>None</td>\n",
       "      <td>1.0</td>\n",
       "      <td>0.0</td>\n",
       "      <td>inf</td>\n",
       "      <td>PQ</td>\n",
       "      <td></td>\n",
       "    </tr>\n",
       "  </tbody>\n",
       "</table>\n",
       "</div>"
      ],
      "text/plain": [
       "attribute  v_nom type    x    y carrier  unit  v_mag_pu_set  v_mag_pu_min  \\\n",
       "My bus 0    20.0       0.0  0.0      AC  None           1.0           0.0   \n",
       "My bus 1    20.0       0.0  0.0      AC  None           1.0           0.0   \n",
       "My bus 2    20.0       0.0  0.0      AC  None           1.0           0.0   \n",
       "\n",
       "attribute  v_mag_pu_max control sub_network  \n",
       "My bus 0            inf      PQ              \n",
       "My bus 1            inf      PQ              \n",
       "My bus 2            inf      PQ              "
      ]
     },
     "execution_count": 3,
     "metadata": {},
     "output_type": "execute_result"
    }
   ],
   "source": [
    "network = pypsa.Network()\n",
    "\n",
    "# Add three buses\n",
    "n_buses = 3\n",
    "\n",
    "for i in range(n_buses):\n",
    "    network.add(\"Bus\",\"My bus {}\".format(i),\n",
    "                v_nom=20.)\n",
    "\n",
    "network.buses"
   ]
  },
  {
   "cell_type": "code",
   "execution_count": 5,
   "metadata": {},
   "outputs": [
    {
     "data": {
      "text/html": [
       "<div>\n",
       "<style scoped>\n",
       "    .dataframe tbody tr th:only-of-type {\n",
       "        vertical-align: middle;\n",
       "    }\n",
       "\n",
       "    .dataframe tbody tr th {\n",
       "        vertical-align: top;\n",
       "    }\n",
       "\n",
       "    .dataframe thead th {\n",
       "        text-align: right;\n",
       "    }\n",
       "</style>\n",
       "<table border=\"1\" class=\"dataframe\">\n",
       "  <thead>\n",
       "    <tr style=\"text-align: right;\">\n",
       "      <th>attribute</th>\n",
       "      <th>bus0</th>\n",
       "      <th>bus1</th>\n",
       "      <th>type</th>\n",
       "      <th>x</th>\n",
       "      <th>r</th>\n",
       "      <th>g</th>\n",
       "      <th>b</th>\n",
       "      <th>s_nom</th>\n",
       "      <th>s_nom_extendable</th>\n",
       "      <th>s_nom_min</th>\n",
       "      <th>...</th>\n",
       "      <th>v_ang_min</th>\n",
       "      <th>v_ang_max</th>\n",
       "      <th>sub_network</th>\n",
       "      <th>x_pu</th>\n",
       "      <th>r_pu</th>\n",
       "      <th>g_pu</th>\n",
       "      <th>b_pu</th>\n",
       "      <th>x_pu_eff</th>\n",
       "      <th>r_pu_eff</th>\n",
       "      <th>s_nom_opt</th>\n",
       "    </tr>\n",
       "  </thead>\n",
       "  <tbody>\n",
       "    <tr>\n",
       "      <th>My line 0</th>\n",
       "      <td>My bus 0</td>\n",
       "      <td>My bus 1</td>\n",
       "      <td></td>\n",
       "      <td>0.1</td>\n",
       "      <td>0.01</td>\n",
       "      <td>0.0</td>\n",
       "      <td>0.0</td>\n",
       "      <td>0.0</td>\n",
       "      <td>False</td>\n",
       "      <td>0.0</td>\n",
       "      <td>...</td>\n",
       "      <td>-inf</td>\n",
       "      <td>inf</td>\n",
       "      <td></td>\n",
       "      <td>0.0</td>\n",
       "      <td>0.0</td>\n",
       "      <td>0.0</td>\n",
       "      <td>0.0</td>\n",
       "      <td>0.0</td>\n",
       "      <td>0.0</td>\n",
       "      <td>0.0</td>\n",
       "    </tr>\n",
       "    <tr>\n",
       "      <th>My line 1</th>\n",
       "      <td>My bus 1</td>\n",
       "      <td>My bus 2</td>\n",
       "      <td></td>\n",
       "      <td>0.1</td>\n",
       "      <td>0.01</td>\n",
       "      <td>0.0</td>\n",
       "      <td>0.0</td>\n",
       "      <td>0.0</td>\n",
       "      <td>False</td>\n",
       "      <td>0.0</td>\n",
       "      <td>...</td>\n",
       "      <td>-inf</td>\n",
       "      <td>inf</td>\n",
       "      <td></td>\n",
       "      <td>0.0</td>\n",
       "      <td>0.0</td>\n",
       "      <td>0.0</td>\n",
       "      <td>0.0</td>\n",
       "      <td>0.0</td>\n",
       "      <td>0.0</td>\n",
       "      <td>0.0</td>\n",
       "    </tr>\n",
       "    <tr>\n",
       "      <th>My line 2</th>\n",
       "      <td>My bus 2</td>\n",
       "      <td>My bus 0</td>\n",
       "      <td></td>\n",
       "      <td>0.1</td>\n",
       "      <td>0.01</td>\n",
       "      <td>0.0</td>\n",
       "      <td>0.0</td>\n",
       "      <td>0.0</td>\n",
       "      <td>False</td>\n",
       "      <td>0.0</td>\n",
       "      <td>...</td>\n",
       "      <td>-inf</td>\n",
       "      <td>inf</td>\n",
       "      <td></td>\n",
       "      <td>0.0</td>\n",
       "      <td>0.0</td>\n",
       "      <td>0.0</td>\n",
       "      <td>0.0</td>\n",
       "      <td>0.0</td>\n",
       "      <td>0.0</td>\n",
       "      <td>0.0</td>\n",
       "    </tr>\n",
       "  </tbody>\n",
       "</table>\n",
       "<p>3 rows × 29 columns</p>\n",
       "</div>"
      ],
      "text/plain": [
       "attribute      bus0      bus1 type    x     r    g    b  s_nom  \\\n",
       "My line 0  My bus 0  My bus 1       0.1  0.01  0.0  0.0    0.0   \n",
       "My line 1  My bus 1  My bus 2       0.1  0.01  0.0  0.0    0.0   \n",
       "My line 2  My bus 2  My bus 0       0.1  0.01  0.0  0.0    0.0   \n",
       "\n",
       "attribute  s_nom_extendable  s_nom_min  ...  v_ang_min  v_ang_max  \\\n",
       "My line 0             False        0.0  ...       -inf        inf   \n",
       "My line 1             False        0.0  ...       -inf        inf   \n",
       "My line 2             False        0.0  ...       -inf        inf   \n",
       "\n",
       "attribute  sub_network  x_pu  r_pu  g_pu b_pu  x_pu_eff  r_pu_eff  s_nom_opt  \n",
       "My line 0                0.0   0.0   0.0  0.0       0.0       0.0        0.0  \n",
       "My line 1                0.0   0.0   0.0  0.0       0.0       0.0        0.0  \n",
       "My line 2                0.0   0.0   0.0  0.0       0.0       0.0        0.0  \n",
       "\n",
       "[3 rows x 29 columns]"
      ]
     },
     "execution_count": 5,
     "metadata": {},
     "output_type": "execute_result"
    }
   ],
   "source": [
    "# Add three lines in a ring\n",
    "for i in range(n_buses):\n",
    "    network.add(\"Line\", \"My line {}\".format(i),\n",
    "                bus0=\"My bus {}\".format(i),\n",
    "                bus1=\"My bus {}\".format((i+1)%n_buses),\n",
    "                x=0.1,\n",
    "                r=0.01)\n",
    "\n",
    "network.lines"
   ]
  },
  {
   "cell_type": "code",
   "execution_count": 6,
   "metadata": {},
   "outputs": [
    {
     "data": {
      "text/html": [
       "<div>\n",
       "<style scoped>\n",
       "    .dataframe tbody tr th:only-of-type {\n",
       "        vertical-align: middle;\n",
       "    }\n",
       "\n",
       "    .dataframe tbody tr th {\n",
       "        vertical-align: top;\n",
       "    }\n",
       "\n",
       "    .dataframe thead th {\n",
       "        text-align: right;\n",
       "    }\n",
       "</style>\n",
       "<table border=\"1\" class=\"dataframe\">\n",
       "  <thead>\n",
       "    <tr style=\"text-align: right;\">\n",
       "      <th>attribute</th>\n",
       "      <th>bus</th>\n",
       "      <th>control</th>\n",
       "      <th>type</th>\n",
       "      <th>p_nom</th>\n",
       "      <th>p_nom_extendable</th>\n",
       "      <th>p_nom_min</th>\n",
       "      <th>p_nom_max</th>\n",
       "      <th>p_min_pu</th>\n",
       "      <th>p_max_pu</th>\n",
       "      <th>p_set</th>\n",
       "      <th>...</th>\n",
       "      <th>shut_down_cost</th>\n",
       "      <th>min_up_time</th>\n",
       "      <th>min_down_time</th>\n",
       "      <th>up_time_before</th>\n",
       "      <th>down_time_before</th>\n",
       "      <th>ramp_limit_up</th>\n",
       "      <th>ramp_limit_down</th>\n",
       "      <th>ramp_limit_start_up</th>\n",
       "      <th>ramp_limit_shut_down</th>\n",
       "      <th>p_nom_opt</th>\n",
       "    </tr>\n",
       "  </thead>\n",
       "  <tbody>\n",
       "    <tr>\n",
       "      <th>My gen</th>\n",
       "      <td>My bus 0</td>\n",
       "      <td>PQ</td>\n",
       "      <td></td>\n",
       "      <td>0.0</td>\n",
       "      <td>False</td>\n",
       "      <td>0.0</td>\n",
       "      <td>inf</td>\n",
       "      <td>0.0</td>\n",
       "      <td>1.0</td>\n",
       "      <td>100.0</td>\n",
       "      <td>...</td>\n",
       "      <td>0.0</td>\n",
       "      <td>0</td>\n",
       "      <td>0</td>\n",
       "      <td>1</td>\n",
       "      <td>0</td>\n",
       "      <td>NaN</td>\n",
       "      <td>NaN</td>\n",
       "      <td>1.0</td>\n",
       "      <td>1.0</td>\n",
       "      <td>0.0</td>\n",
       "    </tr>\n",
       "  </tbody>\n",
       "</table>\n",
       "<p>1 rows × 30 columns</p>\n",
       "</div>"
      ],
      "text/plain": [
       "attribute       bus control type  p_nom  p_nom_extendable  p_nom_min  \\\n",
       "My gen     My bus 0      PQ         0.0             False        0.0   \n",
       "\n",
       "attribute  p_nom_max  p_min_pu  p_max_pu  p_set  ...  shut_down_cost  \\\n",
       "My gen           inf       0.0       1.0  100.0  ...             0.0   \n",
       "\n",
       "attribute  min_up_time min_down_time  up_time_before  down_time_before  \\\n",
       "My gen               0             0               1                 0   \n",
       "\n",
       "attribute  ramp_limit_up  ramp_limit_down  ramp_limit_start_up  \\\n",
       "My gen               NaN              NaN                  1.0   \n",
       "\n",
       "attribute  ramp_limit_shut_down  p_nom_opt  \n",
       "My gen                      1.0        0.0  \n",
       "\n",
       "[1 rows x 30 columns]"
      ]
     },
     "execution_count": 6,
     "metadata": {},
     "output_type": "execute_result"
    }
   ],
   "source": [
    "# Add a generator at bus 0\n",
    "network.add(\"Generator\",\"My gen\",\n",
    "            bus=\"My bus 0\",\n",
    "            p_set=100,\n",
    "            control=\"PQ\")\n",
    "\n",
    "network.generators"
   ]
  },
  {
   "cell_type": "code",
   "execution_count": 7,
   "metadata": {},
   "outputs": [
    {
     "data": {
      "text/html": [
       "<div>\n",
       "<style scoped>\n",
       "    .dataframe tbody tr th:only-of-type {\n",
       "        vertical-align: middle;\n",
       "    }\n",
       "\n",
       "    .dataframe tbody tr th {\n",
       "        vertical-align: top;\n",
       "    }\n",
       "\n",
       "    .dataframe thead th {\n",
       "        text-align: right;\n",
       "    }\n",
       "</style>\n",
       "<table border=\"1\" class=\"dataframe\">\n",
       "  <thead>\n",
       "    <tr style=\"text-align: right;\">\n",
       "      <th>attribute</th>\n",
       "      <th>bus</th>\n",
       "      <th>carrier</th>\n",
       "      <th>type</th>\n",
       "      <th>p_set</th>\n",
       "      <th>q_set</th>\n",
       "      <th>sign</th>\n",
       "    </tr>\n",
       "  </thead>\n",
       "  <tbody>\n",
       "    <tr>\n",
       "      <th>My load</th>\n",
       "      <td>My bus 1</td>\n",
       "      <td></td>\n",
       "      <td></td>\n",
       "      <td>100.0</td>\n",
       "      <td>0.0</td>\n",
       "      <td>-1.0</td>\n",
       "    </tr>\n",
       "  </tbody>\n",
       "</table>\n",
       "</div>"
      ],
      "text/plain": [
       "attribute       bus carrier type  p_set  q_set  sign\n",
       "My load    My bus 1               100.0    0.0  -1.0"
      ]
     },
     "execution_count": 7,
     "metadata": {},
     "output_type": "execute_result"
    }
   ],
   "source": [
    "# Add a load at bus 1\n",
    "network.add(\"Load\",\"My load\",\n",
    "            bus=\"My bus 1\",\n",
    "            p_set=100)\n",
    "\n",
    "network.loads"
   ]
  },
  {
   "cell_type": "code",
   "execution_count": 8,
   "metadata": {},
   "outputs": [
    {
     "data": {
      "text/plain": [
       "My load    100.0\n",
       "Name: p_set, dtype: float64"
      ]
     },
     "execution_count": 8,
     "metadata": {},
     "output_type": "execute_result"
    }
   ],
   "source": [
    "network.loads.p_set"
   ]
  },
  {
   "cell_type": "code",
   "execution_count": 9,
   "metadata": {},
   "outputs": [],
   "source": [
    "# Fix the reactive power of the load\n",
    "network.loads.q_set = 100."
   ]
  },
  {
   "cell_type": "code",
   "execution_count": 11,
   "metadata": {},
   "outputs": [
    {
     "name": "stderr",
     "output_type": "stream",
     "text": [
      "INFO:pypsa.pf:Performing non-linear load-flow on AC sub-network SubNetwork 0 for snapshots Index(['now'], dtype='object')\n",
      "INFO:pypsa.pf:Newton-Raphson solved in 3 iterations with error of 0.000000 in 0.021002 seconds\n"
     ]
    },
    {
     "data": {
      "text/plain": [
       "{'n_iter':      0\n",
       " now  3,\n",
       " 'error':                 0\n",
       " now  4.753531e-10,\n",
       " 'converged':         0\n",
       " now  True}"
      ]
     },
     "execution_count": 11,
     "metadata": {},
     "output_type": "execute_result"
    }
   ],
   "source": [
    "# Do a Newton-Raphson power flow\n",
    "network.pf()"
   ]
  },
  {
   "cell_type": "code",
   "execution_count": 12,
   "metadata": {},
   "outputs": [
    {
     "data": {
      "text/html": [
       "<div>\n",
       "<style scoped>\n",
       "    .dataframe tbody tr th:only-of-type {\n",
       "        vertical-align: middle;\n",
       "    }\n",
       "\n",
       "    .dataframe tbody tr th {\n",
       "        vertical-align: top;\n",
       "    }\n",
       "\n",
       "    .dataframe thead th {\n",
       "        text-align: right;\n",
       "    }\n",
       "</style>\n",
       "<table border=\"1\" class=\"dataframe\">\n",
       "  <thead>\n",
       "    <tr style=\"text-align: right;\">\n",
       "      <th></th>\n",
       "      <th>My line 0</th>\n",
       "      <th>My line 1</th>\n",
       "      <th>My line 2</th>\n",
       "    </tr>\n",
       "  </thead>\n",
       "  <tbody>\n",
       "    <tr>\n",
       "      <th>now</th>\n",
       "      <td>66.897487</td>\n",
       "      <td>-33.333333</td>\n",
       "      <td>-33.391038</td>\n",
       "    </tr>\n",
       "  </tbody>\n",
       "</table>\n",
       "</div>"
      ],
      "text/plain": [
       "     My line 0  My line 1  My line 2\n",
       "now  66.897487 -33.333333 -33.391038"
      ]
     },
     "execution_count": 12,
     "metadata": {},
     "output_type": "execute_result"
    }
   ],
   "source": [
    "# Active Power flow\n",
    "network.lines_t.p0"
   ]
  },
  {
   "cell_type": "code",
   "execution_count": 13,
   "metadata": {},
   "outputs": [
    {
     "data": {
      "text/html": [
       "<div>\n",
       "<style scoped>\n",
       "    .dataframe tbody tr th:only-of-type {\n",
       "        vertical-align: middle;\n",
       "    }\n",
       "\n",
       "    .dataframe tbody tr th {\n",
       "        vertical-align: top;\n",
       "    }\n",
       "\n",
       "    .dataframe thead th {\n",
       "        text-align: right;\n",
       "    }\n",
       "</style>\n",
       "<table border=\"1\" class=\"dataframe\">\n",
       "  <thead>\n",
       "    <tr style=\"text-align: right;\">\n",
       "      <th></th>\n",
       "      <th>My bus 0</th>\n",
       "      <th>My bus 1</th>\n",
       "      <th>My bus 2</th>\n",
       "    </tr>\n",
       "  </thead>\n",
       "  <tbody>\n",
       "    <tr>\n",
       "      <th>now</th>\n",
       "      <td>0.0</td>\n",
       "      <td>-0.875939</td>\n",
       "      <td>-0.433813</td>\n",
       "    </tr>\n",
       "  </tbody>\n",
       "</table>\n",
       "</div>"
      ],
      "text/plain": [
       "     My bus 0  My bus 1  My bus 2\n",
       "now       0.0 -0.875939 -0.433813"
      ]
     },
     "execution_count": 13,
     "metadata": {},
     "output_type": "execute_result"
    }
   ],
   "source": [
    "# Voltage angles on the buses\n",
    "network.buses_t.v_ang*180/np.pi"
   ]
  },
  {
   "cell_type": "code",
   "execution_count": 14,
   "metadata": {},
   "outputs": [
    {
     "data": {
      "text/html": [
       "<div>\n",
       "<style scoped>\n",
       "    .dataframe tbody tr th:only-of-type {\n",
       "        vertical-align: middle;\n",
       "    }\n",
       "\n",
       "    .dataframe tbody tr th {\n",
       "        vertical-align: top;\n",
       "    }\n",
       "\n",
       "    .dataframe thead th {\n",
       "        text-align: right;\n",
       "    }\n",
       "</style>\n",
       "<table border=\"1\" class=\"dataframe\">\n",
       "  <thead>\n",
       "    <tr style=\"text-align: right;\">\n",
       "      <th></th>\n",
       "      <th>My bus 0</th>\n",
       "      <th>My bus 1</th>\n",
       "      <th>My bus 2</th>\n",
       "    </tr>\n",
       "  </thead>\n",
       "  <tbody>\n",
       "    <tr>\n",
       "      <th>now</th>\n",
       "      <td>1.0</td>\n",
       "      <td>0.981199</td>\n",
       "      <td>0.99057</td>\n",
       "    </tr>\n",
       "  </tbody>\n",
       "</table>\n",
       "</div>"
      ],
      "text/plain": [
       "     My bus 0  My bus 1  My bus 2\n",
       "now       1.0  0.981199   0.99057"
      ]
     },
     "execution_count": 14,
     "metadata": {},
     "output_type": "execute_result"
    }
   ],
   "source": [
    "# Voltage magnitude on the buses\n",
    "network.buses_t.v_mag_pu"
   ]
  }
 ],
 "metadata": {
  "interpreter": {
   "hash": "a48edb53158dd8a459f3e7f13fbcd78db9c99f511fd1a201dbc67d4baa3f7a7a"
  },
  "kernelspec": {
   "display_name": "Python 3.9.7 64-bit ('power': conda)",
   "language": "python",
   "name": "python3"
  },
  "language_info": {
   "codemirror_mode": {
    "name": "ipython",
    "version": 3
   },
   "file_extension": ".py",
   "mimetype": "text/x-python",
   "name": "python",
   "nbconvert_exporter": "python",
   "pygments_lexer": "ipython3",
   "version": "3.9.7"
  },
  "orig_nbformat": 4
 },
 "nbformat": 4,
 "nbformat_minor": 2
}
