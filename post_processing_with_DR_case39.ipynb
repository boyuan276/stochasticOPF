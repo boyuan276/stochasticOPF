{
 "cells": [
  {
   "cell_type": "markdown",
   "metadata": {},
   "source": [
    "## Packages"
   ]
  },
  {
   "cell_type": "code",
   "execution_count": null,
   "metadata": {},
   "outputs": [],
   "source": [
    "import numpy as np\n",
    "import pandas as pd\n",
    "import pickle\n",
    "import matplotlib.pyplot as plt\n",
    "import random\n",
    "from pyomo.environ import *\n",
    "from numpy import flatnonzero as find\n",
    "from pypower.api import case9, ext2int, bustypes, makeBdc, rundcpf, ppoption, rundcopf, case39\n",
    "from pypower.idx_bus import BUS_TYPE, REF, VA, PD, LAM_P, LAM_Q, MU_VMAX, MU_VMIN\n",
    "from pypower.idx_gen import PG, MU_PMAX, MU_PMIN, MU_QMAX, MU_QMIN, PMAX, PMIN, GEN_BUS\n",
    "from pypower.idx_brch import PF, PT, QF, QT, RATE_A, MU_SF, MU_ST\n",
    "from pypower.idx_cost import COST\n",
    "import matplotlib.pyplot as plt\n",
    "import pickle"
   ]
  },
  {
   "cell_type": "markdown",
   "metadata": {},
   "source": [
    "## Power network parameters"
   ]
  },
  {
   "cell_type": "code",
   "execution_count": null,
   "metadata": {},
   "outputs": [],
   "source": [
    "# Run PyPower case to get initial condition\n",
    "ppc = case39()\n",
    "ppopt = ppoption(VERBOSE=0)\n",
    "pp_dcopf = rundcopf(ppc, ppopt)\n",
    "pp_bus = pp_dcopf[\"bus\"]\n",
    "pp_branch = pp_dcopf[\"branch\"]\n",
    "pp_gen = pp_dcopf[\"gen\"]"
   ]
  },
  {
   "cell_type": "code",
   "execution_count": null,
   "metadata": {},
   "outputs": [],
   "source": [
    "## convert to internal indexing\n",
    "ppc = ext2int(ppc)\n",
    "baseMVA, bus, gen, branch, gencost = \\\n",
    "    ppc[\"baseMVA\"], ppc[\"bus\"], ppc[\"gen\"], ppc[\"branch\"], ppc[\"gencost\"]\n",
    "\n",
    "## get bus index lists of each type of bus\n",
    "ref, pv, pq = bustypes(bus, gen)\n",
    "pvpq = np.matrix(np.r_[pv, pq])\n",
    "\n",
    "## generator info\n",
    "gbus = gen[:, GEN_BUS].astype(int)    ## what buses are they at?\n",
    "refgen = find(gbus == ref)\n",
    "\n",
    "## build B matrices and phase shift injections\n",
    "B, Bf, _, _ = makeBdc(baseMVA, bus, branch)\n",
    "B = B.todense()\n",
    "Bf = Bf.todense()\n",
    "\n",
    "# Problem dimensions\n",
    "NG = gen.shape[0] # Number of generators\n",
    "NB = bus.shape[0] # Number of buses\n",
    "NBr = branch.shape[0] # Number of lines\n",
    "NL = np.count_nonzero(pp_bus[:, PD]) # Number of loads\n",
    "NW = 1 # Number of wind farms\n",
    "\n",
    "# Map generator to bus\n",
    "CG = np.zeros((NB,NG))\n",
    "CG[gbus,range(NG)] = 1\n",
    "\n",
    "# Map load to bus\n",
    "CL = np.zeros((NB,NL))\n",
    "load_bus = np.nonzero(pp_bus[:, PD])[0]\n",
    "for i in range(len(load_bus)):\n",
    "    CL[load_bus[i], i] = 1\n",
    "\n",
    "# Map wind farm to bus\n",
    "CW = np.zeros((NB,1))\n",
    "CW[5,0] = 1\n",
    "\n",
    "# Generator capacity limit p.u.\n",
    "Pmax = gen[:, PMAX]/baseMVA\n",
    "Pmin = gen[:, PMIN]/baseMVA\n",
    "\n",
    "# Line flow limit p.u.\n",
    "Lmax = branch[:, RATE_A]/baseMVA\n",
    "Lmin = - branch[:, RATE_A]/baseMVA\n",
    "\n",
    "# Quadratic cost coefficients\n",
    "# Convert to p.u.\n",
    "CG2 = gencost[:, COST]*baseMVA**2\n",
    "CG1 = gencost[:, COST+1]*baseMVA\n",
    "CG0 = gencost[:, COST+2]\n",
    "\n",
    "# Cost coefficient for wind power\n",
    "CW1 = 0\n",
    "CW0 = 0\n",
    "\n",
    "# Cost coefficients for generation reserve\n",
    "CRG_up = 10*np.ones((NG,1))*baseMVA\n",
    "CRG_down = 10*np.ones((NG,1))*baseMVA\n",
    "\n",
    "# Cost coefficients for load reserve\n",
    "CRL_up = 9.8*np.ones((NL,1))*baseMVA\n",
    "CRL_down = 9.8*np.ones((NL,1))*baseMVA\n",
    "\n",
    "# Uncontrollable load\n",
    "load = pp_bus[:,PD]\n",
    "PL_total = load[load > 0]\n",
    "PL = PL_total/baseMVA\n",
    "\n",
    "# Generator and demand set points\n",
    "# Power in p.u., Va in rad\n",
    "Pg0 = pp_gen[:, PG]/baseMVA\n",
    "Pd0 = pp_bus[:, PD]/baseMVA\n",
    "Pinj0 = (np.matmul(CG, Pg0) - Pd0)\n",
    "Va0 = pp_bus[:, VA]/180*np.pi"
   ]
  },
  {
   "cell_type": "markdown",
   "metadata": {},
   "source": [
    "## Cost function"
   ]
  },
  {
   "cell_type": "code",
   "execution_count": null,
   "metadata": {},
   "outputs": [],
   "source": [
    "def cost(model,CG0,CG1,CG2,CRG_up,CRG_down,CRL_up,CRL_down,NG,NL):\n",
    "    r_pg = np.zeros(NG)\n",
    "    r_rg_up = np.zeros(NG)\n",
    "    r_rg_down = np.zeros(NG)\n",
    "    r_rl_up = np.zeros(NL)\n",
    "    r_rl_down = np.zeros(NL)\n",
    "    r_pc = np.zeros(NL)\n",
    "    gen_cost = np.zeros(NG)\n",
    "    gen_r_cost = np.zeros(NG)\n",
    "    load_r_cost = np.zeros(NL)\n",
    "\n",
    "\n",
    "    for i in range(NG):\n",
    "        r_pg[i] = model.PG[i]()\n",
    "        r_rg_up[i] = model.RG_up[i]()\n",
    "        r_rg_down[i] = model.RG_down[i]()\n",
    "        gen_cost[i] = CG0[i] + CG1[i]*r_pg[i] + CG2[i]*r_pg[i]**2\n",
    "        gen_r_cost[i] = CRG_up[i]*r_rg_up[i] + CRG_down[i]*r_rg_down[i]\n",
    "\n",
    "    for i in range(NL):\n",
    "        r_rl_up[i] = model.RL_up[i]()\n",
    "        r_rl_down[i] = model.RL_down[i]()\n",
    "        r_pc[i] = model.PC[i]()\n",
    "        load_r_cost[i] = CRL_up[i]*r_rl_up[i] + CRL_down[i]*r_rl_down[i]\n",
    "\n",
    "    total_cost = np.sum(gen_cost + gen_r_cost) + np.sum(load_r_cost)\n",
    "\n",
    "    return gen_cost,gen_r_cost,load_r_cost,total_cost"
   ]
  },
  {
   "cell_type": "markdown",
   "metadata": {},
   "source": [
    "## Read results"
   ]
  },
  {
   "cell_type": "code",
   "execution_count": null,
   "metadata": {},
   "outputs": [],
   "source": [
    "case_name = \"case39\"\n",
    "nsample = 10\n",
    "nhours = 1\n",
    "figdir = \"Figures/\"+case_name+\"/\"\n",
    "\n",
    "file = open(\"Results/models_%s_%d\" %(case_name, nsample), \"rb\")\n",
    "models = pickle.load(file)\n",
    "file.close()\n",
    "\n",
    "# Read PB data\n",
    "file = open(\"Results/PB_alls_%s_%d\" %(case_name, nsample), \"rb\")\n",
    "PB_alls = pickle.load(file)\n",
    "file.close()\n",
    "\n",
    "# Read Pmis_wind data\n",
    "file = open(\"Results/P_mis_winds_%s_%d\" %(case_name, nsample), \"rb\")\n",
    "Pmis_winds = pickle.load(file)\n",
    "file.close()"
   ]
  },
  {
   "cell_type": "markdown",
   "metadata": {},
   "source": [
    "## Sample plots"
   ]
  },
  {
   "cell_type": "code",
   "execution_count": null,
   "metadata": {},
   "outputs": [],
   "source": [
    "# Read temperature data\n",
    "weather_data = pd.read_csv(\"Weather_Data/NYC_Hourly_Normal_Temp.csv\")\n",
    "# Read wind power data\n",
    "PW_data = pd.read_csv(\"spring_wind.csv\",header=None).to_numpy()\n",
    "PW_data = PW_data/500*20/baseMVA"
   ]
  },
  {
   "cell_type": "code",
   "execution_count": null,
   "metadata": {},
   "outputs": [],
   "source": [
    "def cost(model,CG0,CG1,CG2,CRG_up,CRG_down,CRL_up,CRL_down,NG,NL):\n",
    "    r_pg = np.zeros(NG)\n",
    "    r_rg_up = np.zeros(NG)\n",
    "    r_rg_down = np.zeros(NG)\n",
    "    r_rl_up = np.zeros(NL)\n",
    "    r_rl_down = np.zeros(NL)\n",
    "    r_pc = np.zeros(NL)\n",
    "    gen_cost = np.zeros(NG)\n",
    "    gen_r_cost = np.zeros(NG)\n",
    "    load_r_cost = np.zeros(NL)\n",
    "\n",
    "\n",
    "    for i in range(NG):\n",
    "        r_pg[i] = model.PG[i]()\n",
    "        r_rg_up[i] = model.RG_up[i]()\n",
    "        r_rg_down[i] = model.RG_down[i]()\n",
    "        gen_cost[i] = CG0[i] + CG1[i]*r_pg[i] + CG2[i]*r_pg[i]**2\n",
    "        gen_r_cost[i] = CRG_up[i]*r_rg_up[i] + CRG_down[i]*r_rg_down[i]\n",
    "\n",
    "    for i in range(NL):\n",
    "        r_rl_up[i] = model.RL_up[i]()\n",
    "        r_rl_down[i] = model.RL_down[i]()\n",
    "        r_pc[i] = model.PC[i]()\n",
    "        load_r_cost[i] = CRL_up[i]*r_rl_up[i] + CRL_down[i]*r_rl_down[i]\n",
    "\n",
    "    total_cost = np.sum(gen_cost + gen_r_cost) + np.sum(load_r_cost)\n",
    "\n",
    "    return gen_cost,gen_r_cost,load_r_cost,total_cost"
   ]
  },
  {
   "cell_type": "markdown",
   "metadata": {},
   "source": [
    "### Wind power distribution"
   ]
  },
  {
   "cell_type": "code",
   "execution_count": null,
   "metadata": {},
   "outputs": [],
   "source": [
    "PW_samples = np.zeros((nhours,nsample))\n",
    "PW_fs = np.zeros(nsample)\n",
    "for h in range(nhours):\n",
    "    np.random.seed(1)\n",
    "    PW_sample = np.random.choice(PW_data[h,:], size=nsample)\n",
    "    PW_f = np.median(PW_data[h, :])\n",
    "    PW_samples[h,:] = PW_sample\n",
    "    PW_fs[h] = PW_f"
   ]
  },
  {
   "cell_type": "code",
   "execution_count": null,
   "metadata": {},
   "outputs": [],
   "source": [
    "fig = plt.figure(figsize=(12,8), dpi=300)\n",
    "plt.boxplot(PW_samples.T)\n",
    "plt.xlabel(\"Hour\", fontsize=20)\n",
    "plt.ylabel(\"Wind power (MW)\", fontsize=20)\n",
    "plt.title(\"Distrubition of wind power\", fontsize=20)\n",
    "plt.xticks(fontsize=16)\n",
    "plt.yticks(fontsize=16)\n",
    "fig.savefig(figdir+\"wind_boxplot.png\", dpi=300)\n",
    "plt.show()"
   ]
  },
  {
   "cell_type": "code",
   "execution_count": null,
   "metadata": {},
   "outputs": [],
   "source": [
    "fig = plt.figure(figsize=(12,8), dpi=300)\n",
    "plt.hist(PW_data.flatten()*baseMVA, bins=50, color=\"black\")\n",
    "plt.title(\"Distribution of wind power\", fontsize=20)\n",
    "plt.xlabel(\"Wind power (MW)\", fontsize=20)\n",
    "plt.ylabel(\"Frequency\", fontsize=20)\n",
    "plt.xticks(fontsize=16)\n",
    "plt.yticks(fontsize=16)\n",
    "fig.savefig(figdir+\"Wind_hist.png\", dpi=300)\n",
    "plt.show()"
   ]
  },
  {
   "cell_type": "markdown",
   "metadata": {},
   "source": [
    "### Virtual storage model"
   ]
  },
  {
   "cell_type": "code",
   "execution_count": null,
   "metadata": {},
   "outputs": [],
   "source": [
    "def VS(dt,Tamb,num_TCL,Tset,delta,R,C,P_el,COP,baseMVA):\n",
    "    Tdown = np.zeros(num_TCL)\n",
    "    Tup = np.zeros(num_TCL)\n",
    "    T_ON = np.zeros(num_TCL)\n",
    "    T_OFF = np.zeros(num_TCL)\n",
    "    D = np.zeros(num_TCL)\n",
    "    B = 0\n",
    "    Pdown = 0\n",
    "    Pup = 0\n",
    "    Sdown = 0\n",
    "    Sup = 0\n",
    "    for i in range(0,num_TCL):\n",
    "        Tdown[i] = Tset[i] - delta/2\n",
    "        Tup[i] = Tset[i] + delta/2\n",
    "        T_ON[i] = C[i]*R[i]*np.log((Tdown[i] - Tamb - R[i]*P_el[i]*COP[i])/(Tup[i] - Tamb - R[i]*P_el[i]*COP[i]))\n",
    "        if ((Tdown[i] - Tamb - R[i]*P_el[i]*COP[i])/(Tup[i] - Tamb - R[i]*P_el[i]*COP[i]) < 0):\n",
    "            print(Tdown[i] - Tamb - R[i]*P_el[i]*COP[i])\n",
    "            print(Tup[i] - Tamb - R[i]*P_el[i]*COP[i])\n",
    "        T_OFF[i] = C[i]*R[i]*np.log((Tup[i] - Tamb)/(Tdown[i] - Tamb))\n",
    "        D[i] = T_ON[i]/(T_ON[i] + T_OFF[i])\n",
    "        if ( Tamb < Tdown[i] and Tamb + R[i]*P_el[i]*COP[i] > Tup[i] ):\n",
    "            B = B + P_el[i]*D[i]\n",
    "            Pup = Pup + P_el[i]\n",
    "            Sup = Sup + dt*P_el[i]*(1 - D[i])\n",
    "    return [B/1000/baseMVA,Pdown/1000/baseMVA,Pup/1000/baseMVA,Sdown,Sup]"
   ]
  },
  {
   "cell_type": "markdown",
   "metadata": {},
   "source": [
    "### Load parameters"
   ]
  },
  {
   "cell_type": "code",
   "execution_count": null,
   "metadata": {},
   "outputs": [],
   "source": [
    "Tamb = (weather_data.iloc[:,8] - 32)/1.8\n",
    "Tamb_min = min(Tamb)\n",
    "Tamb_10PCTL = (weather_data.iloc[:,6] - 32)/1.8\n",
    "Tamb_90PCTL = (weather_data.iloc[:,7] - 32)/1.8\n",
    "std_Tamb_10PCTL = (Tamb - Tamb_10PCTL)/1.282 \n",
    "std_Tamb_90PCTL = (Tamb_90PCTL - Tamb)/1.282 \n",
    "std_Tamb = (std_Tamb_10PCTL + std_Tamb_90PCTL)/10\n",
    "\n",
    "# Parameters related to the demand side\n",
    "num_TCL = 5000\n",
    "Tset = np.zeros((num_TCL,NL))\n",
    "R = np.zeros((num_TCL,NL))\n",
    "C = np.zeros((num_TCL,NL))\n",
    "COP = np.zeros((num_TCL,NL))\n",
    "P_el = np.zeros((num_TCL,NL))\n",
    "Tset_set = [21,21.5,22,22.5,23]\n",
    "for i in range(num_TCL): \n",
    "    for j in range(NL):\n",
    "        s = random.sample(Tset_set,1)\n",
    "        Tset[i,j] = s[0] \n",
    "delta = 1\n",
    "R_nom = 2\n",
    "R_low = 0.8*R_nom\n",
    "R_high = 1.2*R_nom\n",
    "C_nom = 2\n",
    "C_low = 0.8*C_nom\n",
    "C_high = 1.2*C_nom\n",
    "COP_nom = 2.5\n",
    "COP_low = 0.8*COP_nom\n",
    "COP_high = 1.2*COP_nom\n",
    "\n",
    "np.random.seed(0)\n",
    "\n",
    "for i in range(NL): \n",
    "    R[:,i] = np.random.uniform(R_low,R_high,num_TCL)\n",
    "    C[:,i] = np.random.uniform(C_low,C_high,num_TCL)\n",
    "    COP[:,i] = np.random.uniform(COP_low,COP_high,num_TCL)\n",
    "    for j in range(num_TCL):\n",
    "        P_el[j,i] = np.ceil((Tset[j,i] + delta/2 - Tamb_min)/(R[j,i]*COP[j,i])) + 3\n"
   ]
  },
  {
   "cell_type": "markdown",
   "metadata": {},
   "source": [
    "### Baseline load, maximum energy capacity and ambient temperature histogram"
   ]
  },
  {
   "cell_type": "code",
   "execution_count": null,
   "metadata": {},
   "outputs": [],
   "source": [
    "# nsample_test = 10000\n",
    "# PB = np.zeros(nsample_test)\n",
    "# S_up = np.zeros(nsample_test)\n",
    "# np.random.seed(1)\n",
    "# Tamb_sample = np.random.normal(Tamb[0],std_Tamb[0],nsample_test)\n",
    "# for i in range(nsample_test):\n",
    "#     identified_VS = VS(0.25,Tamb_sample[i],num_TCL,Tset[:,0],delta,R[:,0],C[:,0],P_el[:,0],COP[:,0],baseMVA)\n",
    "#     PB[i] = identified_VS[0]\n",
    "#     S_up[i] = identified_VS[4]"
   ]
  },
  {
   "cell_type": "code",
   "execution_count": null,
   "metadata": {},
   "outputs": [],
   "source": [
    "# fig1 = plt.figure(figsize=(12,8), dpi=300)\n",
    "# plt.tight_layout()\n",
    "# plt.hist(PB*baseMVA, bins=50, color=\"black\")\n",
    "# plt.title(\"Distribution of baseline power consumption\", fontsize=20)\n",
    "# plt.xlabel(\"Baseline power consumption (MW)\", fontsize=20)\n",
    "# plt.ylabel(\"Frequency\", fontsize=20)\n",
    "# plt.xticks(fontsize=16)\n",
    "# plt.yticks(fontsize=16)\n",
    "# fig1.savefig(figdir+\"PB_hist.png\", dpi=300)\n",
    "# plt.show()\n",
    "\n",
    "# fig2 = plt.figure(figsize=(12,8), dpi=300)\n",
    "# plt.tight_layout()\n",
    "# plt.hist(S_up/1000, bins=50, color=\"black\")\n",
    "# plt.title(\"Distribution of maximum energy capacity of the virtual storage\", fontsize=20)\n",
    "# plt.xlabel(\"Maximum energy capacity (MWh)\", fontsize=20)\n",
    "# plt.ylabel(\"Frequency\", fontsize=20)\n",
    "# plt.xticks(fontsize=16)\n",
    "# plt.yticks(fontsize=16)\n",
    "# fig2.savefig(figdir+\"Sup_hist.png\", dpi=300)\n",
    "# plt.show()\n",
    "\n",
    "# fig3 = plt.figure(figsize=(12,8), dpi=300)\n",
    "# plt.tight_layout()\n",
    "# plt.hist(Tamb_sample, bins=50, color=\"black\")\n",
    "# plt.title(\"Distribution of ambient temperature\", fontsize=20)\n",
    "# plt.xlabel(u\"Abmient temperature (\\N{DEGREE SIGN}C)\", fontsize=20)\n",
    "# plt.ylabel(\"Frequency\", fontsize=20)\n",
    "# plt.xticks(fontsize=16)\n",
    "# plt.yticks(fontsize=16)\n",
    "# fig3.savefig(figdir+\"Tamb_hist.png\", dpi=300)\n",
    "# plt.show()"
   ]
  },
  {
   "cell_type": "markdown",
   "metadata": {},
   "source": [
    "## Reserve plots"
   ]
  },
  {
   "cell_type": "markdown",
   "metadata": {},
   "source": [
    "### RG boxplot"
   ]
  },
  {
   "cell_type": "code",
   "execution_count": null,
   "metadata": {},
   "outputs": [],
   "source": [
    "# Read RG data\n",
    "RG_all_hour = np.zeros((NG, nhours, nsample))\n",
    "\n",
    "for h in range(nhours):\n",
    "    model = models[h]\n",
    "    RG_all = model.RG[:,:]()\n",
    "    RG_all = np.array(RG_all).reshape(NG, nsample)*baseMVA\n",
    "\n",
    "    for i in range(NG):\n",
    "        RG_one = RG_all[i, :]\n",
    "        RG_all_hour[i, h, :] = RG_one\n",
    "\n",
    "# RG boxplot\n",
    "gen_bus = [1, 2, 3]\n",
    "\n",
    "for i in range(NG):\n",
    "    fig = plt.figure(figsize=(12,8), dpi=300)\n",
    "    RG_plot = RG_all_hour[i, :, :].tolist()\n",
    "    plt.boxplot(RG_plot)\n",
    "    plt.title(\"Generator %d - Bus %d\" %((i+1), gen_bus[i]), fontsize=20)\n",
    "    plt.xlabel(\"Hour\", fontsize=20)\n",
    "    plt.ylabel(\"Generator reserve (MW)\", fontsize=20)\n",
    "    plt.xticks(fontsize=16)\n",
    "    plt.yticks(fontsize=16)\n",
    "    fig_name = figdir+\"RG_%i.png\" %i\n",
    "    fig.savefig(fig_name, dpi=300)\n",
    "    plt.show()"
   ]
  },
  {
   "cell_type": "markdown",
   "metadata": {},
   "source": [
    "### RG up and down bar plot"
   ]
  },
  {
   "cell_type": "code",
   "execution_count": null,
   "metadata": {},
   "outputs": [],
   "source": [
    "# Read RG up and down data\n",
    "RG_up_all_hour = np.zeros((NG, nhours))\n",
    "RG_down_all_hour = np.zeros((NG, nhours))\n",
    "\n",
    "for h in range(nhours):\n",
    "    model = models[h]\n",
    "    RG_up_all = model.RG_up[:]()\n",
    "    RG_down_all = model.RG_down[:]()\n",
    "    RG_up_all = np.array(RG_up_all).reshape(NG)*baseMVA\n",
    "    RG_down_all = np.array(RG_down_all).reshape(NG)*baseMVA\n",
    "\n",
    "    for i in range(NG):\n",
    "        RG_up_one = RG_up_all[i]\n",
    "        RG_down_one = RG_down_all[i]\n",
    "        RG_up_all_hour[i, h] = RG_up_one\n",
    "        RG_down_all_hour[i, h] = RG_down_one\n",
    "\n",
    "# Plot RG up and down data\n",
    "for i in range(NG):\n",
    "    # print(\"Generator: \", i)\n",
    "    fig = plt.figure(figsize=(12,8), dpi=300)\n",
    "\n",
    "    RG_up_plot = RG_up_all_hour[i, :]\n",
    "    # print(\"RG up: \", RG_up_plot)\n",
    "    plt.bar(range(nhours),RG_up_plot, label=\"Upward reserve\")\n",
    "\n",
    "    RG_down_plot = RG_down_all_hour[i, :]\n",
    "    # print(\"RG down: \", RG_down_plot)\n",
    "    plt.bar(range(nhours),-RG_down_plot, color='r', label=\"Downward reserve\")\n",
    "\n",
    "    plt.legend(fontsize=16)\n",
    "    plt.title(\"Generator %d - Bus %d\" %((i+1), gbus[i]), fontsize=20)\n",
    "    plt.xlabel(\"Hour\", fontsize=20)\n",
    "    plt.ylabel(\"Reserve (MW)\", fontsize=20)\n",
    "    plt.xticks(fontsize=16)\n",
    "    plt.yticks(fontsize=16)\n",
    "    fig_name = figdir+\"RG_up_down_%i.png\" %i\n",
    "    # fig.savefig(fig_name, dpi=300)"
   ]
  },
  {
   "cell_type": "markdown",
   "metadata": {},
   "source": [
    "### RL boxplot"
   ]
  },
  {
   "cell_type": "code",
   "execution_count": null,
   "metadata": {},
   "outputs": [],
   "source": [
    "# Read RL data\n",
    "RL_all_hour = np.zeros((NL, nhours, nsample))\n",
    "\n",
    "for h in range(nhours):\n",
    "    model = models[h]\n",
    "    RL_all = model.RL[:,:]()\n",
    "    RL_all = np.array(RL_all).reshape(NL, nsample)*baseMVA\n",
    "\n",
    "    for i in range(NL):\n",
    "        RL_one = RL_all[i, :]\n",
    "        RL_all_hour[i, h, :] = RL_one\n",
    "\n",
    "# RL boxplot\n",
    "load_bus = [5, 7, 9]\n",
    "\n",
    "for i in range(NL):\n",
    "    fig = plt.figure(figsize=(12,8), dpi=300)\n",
    "    RL_plot = RL_all_hour[i, :, :].tolist()\n",
    "    plt.boxplot(RL_plot)\n",
    "    plt.title(\"Load %d - Bus %d\" %((i+1), load_bus[i]), fontsize=20)\n",
    "    plt.xlabel(\"Hour\",fontsize=20)\n",
    "    plt.ylabel(\"Load reserve (MW)\", fontsize=20)\n",
    "    plt.xticks(fontsize=16)\n",
    "    plt.yticks(fontsize=16)\n",
    "    plt.show()\n",
    "    fig_name = figdir+\"RL_%d.png\" %i\n",
    "    fig.savefig(fig_name, dpi=300)"
   ]
  },
  {
   "cell_type": "markdown",
   "metadata": {},
   "source": [
    "### RL up and down bar plot"
   ]
  },
  {
   "cell_type": "code",
   "execution_count": null,
   "metadata": {},
   "outputs": [],
   "source": [
    "# Read RL up and down data\n",
    "RL_up_all_hour = np.zeros((NL, nhours))\n",
    "RL_down_all_hour = np.zeros((NL, nhours))\n",
    "\n",
    "for h in range(nhours):\n",
    "    model = models[h]\n",
    "    RL_up_all = model.RL_up[:]()\n",
    "    RL_down_all = model.RL_down[:]()\n",
    "    RL_up_all = np.array(RL_up_all).reshape(NL)*baseMVA\n",
    "    RL_down_all = np.array(RL_down_all).reshape(NL)*baseMVA\n",
    "\n",
    "    for i in range(NL):\n",
    "        RL_up_one = RL_up_all[i]\n",
    "        RL_down_one = RL_down_all[i]\n",
    "        RL_up_all_hour[i, h] = RL_up_one\n",
    "        RL_down_all_hour[i, h] = RL_down_one\n",
    "\n",
    "# Plot RG up and down data\n",
    "for i in range(NL):\n",
    "\n",
    "    # print(\"Load: \", i)\n",
    "    fig = plt.figure(figsize=(12,8), dpi=300)\n",
    "\n",
    "    RL_up_plot = RL_up_all_hour[i, :]\n",
    "    # print(\"RL up: \", RL_up_plot)\n",
    "    plt.bar(range(nhours),RL_up_plot, label=\"Upward reserve\")\n",
    "\n",
    "    RL_down_plot = RL_down_all_hour[i, :]\n",
    "    # print(\"RL down: \", RL_down_plot)\n",
    "    plt.bar(range(nhours),-RL_down_plot, color='r', label=\"Downward reserve\")\n",
    "\n",
    "    plt.legend(fontsize=16)\n",
    "    plt.title(\"Load %d - Bus %d\" %((i+1), load_bus[i]), fontsize=20)\n",
    "    plt.xlabel(\"Hour\", fontsize=20)\n",
    "    plt.ylabel(\"Reserve (MW)\", fontsize=20)\n",
    "    plt.xticks(fontsize=16)\n",
    "    plt.yticks(fontsize=16)\n",
    "    fig_name = figdir+\"RL_up_down_%i.png\" %i\n",
    "    fig.savefig(fig_name, dpi=300)"
   ]
  },
  {
   "cell_type": "markdown",
   "metadata": {},
   "source": [
    "## Power mismatch plot"
   ]
  },
  {
   "cell_type": "markdown",
   "metadata": {},
   "source": [
    "### Wind mismatch boxplot"
   ]
  },
  {
   "cell_type": "code",
   "execution_count": null,
   "metadata": {},
   "outputs": [],
   "source": [
    "# Calculate wind mismatch\n",
    "Pmis_wind_hour = np.zeros((nhours, nsample))\n",
    "for h in range(nhours):\n",
    "    Pmis_wind = Pmis_winds[h]\n",
    "    Pmis_wind = np.array(Pmis_wind).reshape(nsample)*baseMVA\n",
    "    Pmis_wind_hour[h, :] = Pmis_wind"
   ]
  },
  {
   "cell_type": "code",
   "execution_count": null,
   "metadata": {},
   "outputs": [],
   "source": [
    "fig = plt.figure(figsize=(12,8), dpi=300)\n",
    "Pmis_wind_plot = Pmis_wind_hour.tolist()\n",
    "plt.boxplot(Pmis_wind_plot)\n",
    "plt.title(\"Wind mismatch\", fontsize=20)\n",
    "plt.xlabel(\"Hour\", fontsize=20)\n",
    "plt.ylabel(\"Mismatch (MW)\", fontsize=20)\n",
    "plt.xticks(fontsize=16)\n",
    "plt.yticks(fontsize=16)\n",
    "fig_name = figdir+\"Wind_mismatch.png\"\n",
    "fig.savefig(fig_name, dpi=300)\n",
    "plt.show()\n",
    "plt.show()"
   ]
  },
  {
   "cell_type": "code",
   "execution_count": null,
   "metadata": {},
   "outputs": [],
   "source": [
    "# Load power set point\n",
    "PB_all_hour = np.zeros((NL, nhours, nsample))\n",
    "for h in range(nhours):\n",
    "    PB_all = PB_alls[h]\n",
    "    PB_all = np.array(PB_all).reshape(NL, nsample)*baseMVA\n",
    "\n",
    "    for i in range(NL):\n",
    "        PB_one = PB_all[i, :]\n",
    "        PB_all_hour[i, h, :] = PB_one"
   ]
  },
  {
   "cell_type": "code",
   "execution_count": null,
   "metadata": {},
   "outputs": [],
   "source": [
    "# Read PC data\n",
    "PC_all_hour = np.zeros((NL, nhours))\n",
    "\n",
    "for h in range(nhours):\n",
    "    model = models[h]\n",
    "    PC_all = model.PC[:]()\n",
    "    PC_all = np.array(PC_all).reshape(NL)*baseMVA\n",
    "\n",
    "    for i in range(NL):\n",
    "        PC_one = PC_all[i]\n",
    "        PC_all_hour[i, h] = PC_one"
   ]
  },
  {
   "cell_type": "markdown",
   "metadata": {},
   "source": [
    "### Load set point and reserve line plot"
   ]
  },
  {
   "cell_type": "code",
   "execution_count": null,
   "metadata": {},
   "outputs": [],
   "source": [
    "for i in range(NL):\n",
    "    fig = plt.figure(figsize=(12,8), dpi=300)\n",
    "    plt.plot(PC_all_hour[i, :], linestyle=\"-\", marker=\"o\", color=\"black\", label=\"Baseline load\")\n",
    "    plt.plot(PC_all_hour[i, :] + RL_up_all_hour[i, :], linestyle=\"dashed\", marker=\"o\", color=\"red\", label=\"Maximum load\")\n",
    "    plt.plot(PC_all_hour[i, :] - RL_down_all_hour[i, :], linestyle=\"dashed\", marker=\"o\", color=\"blue\", label=\"Minimum load\")\n",
    "    plt.fill_between(range(nhours), PC_all_hour[i, :], PC_all_hour[i, :] + RL_up_all_hour[i, :], color=\"red\", alpha=0.1)\n",
    "    plt.fill_between(range(nhours), PC_all_hour[i, :], PC_all_hour[i, :] - RL_down_all_hour[i, :], color=\"blue\", alpha=0.1)\n",
    "    plt.xlabel(\"Hour\", fontsize=20)\n",
    "    plt.ylabel(\"Controllable load (MW)\", fontsize=20)\n",
    "    plt.title(\"Load %d - Bus %d\" %((i+1), load_bus[i]), fontsize=20)\n",
    "    plt.legend(fontsize=16)\n",
    "    plt.xticks(fontsize=16)\n",
    "    plt.yticks(fontsize=16)\n",
    "    fig_name = figdir+\"Load_PC_RL_up_down_%d.png\" %i\n",
    "    fig.savefig(fig_name, dpi=300)\n",
    "    plt.show()"
   ]
  },
  {
   "cell_type": "markdown",
   "metadata": {},
   "source": [
    "### Total power mismatch boxplot"
   ]
  },
  {
   "cell_type": "code",
   "execution_count": null,
   "metadata": {},
   "outputs": [],
   "source": [
    "Pmis_all_hour = np.zeros((nhours,nsample))\n",
    "# Calculate P mis\n",
    "for h in range(nhours):\n",
    "    for i in range(nsample):\n",
    "        Pmis_all_hour[h,i] = Pmis_wind_hour[h,i] - np.sum(PC_all_hour[:, h]) + np.sum(PB_all_hour[:, h, i])"
   ]
  },
  {
   "cell_type": "code",
   "execution_count": null,
   "metadata": {},
   "outputs": [],
   "source": [
    "fig = plt.figure(figsize=(12,8), dpi=300)\n",
    "Pmis_plot = Pmis_all_hour[:, :].tolist()\n",
    "plt.boxplot(Pmis_plot)\n",
    "plt.title(\"Power mismatch\", fontsize=20)\n",
    "plt.xlabel(\"Hour\", fontsize=20)\n",
    "plt.ylabel(\"Mismatch (MW)\", fontsize=20)\n",
    "plt.xticks(fontsize=16)\n",
    "plt.yticks(fontsize=16)\n",
    "fig_name = figdir+\"Power_mismatch.png\"\n",
    "fig.savefig(fig_name, dpi=300)\n",
    "plt.show()"
   ]
  },
  {
   "cell_type": "code",
   "execution_count": null,
   "metadata": {},
   "outputs": [],
   "source": [
    "test = Pmis_all_hour[0, :]\n",
    "plt.hist(test, bins=30)\n",
    "plt.show()"
   ]
  },
  {
   "cell_type": "code",
   "execution_count": null,
   "metadata": {},
   "outputs": [],
   "source": [
    "print(min(test), max(test))"
   ]
  },
  {
   "cell_type": "code",
   "execution_count": null,
   "metadata": {},
   "outputs": [],
   "source": [
    "RG_up_total = np.sum(RG_up_all_hour, axis=0)\n",
    "RG_up_total = np.sum(RG_up_all_hour, axis=0)\n",
    "RG_up_total"
   ]
  },
  {
   "cell_type": "code",
   "execution_count": null,
   "metadata": {},
   "outputs": [],
   "source": [
    "RG_test = RG_all_hour[2,23,:]\n",
    "print(np.max(RG_test))\n",
    "print(np.min(RG_test))"
   ]
  },
  {
   "cell_type": "code",
   "execution_count": null,
   "metadata": {},
   "outputs": [],
   "source": [
    "RL_test = RL_all_hour[1,23,:]\n",
    "print(np.max(RL_test))\n",
    "print(np.min(RL_test))"
   ]
  },
  {
   "cell_type": "code",
   "execution_count": null,
   "metadata": {},
   "outputs": [],
   "source": [
    "test_e = models[0].e[:]()\n",
    "print(np.min(test_e)*baseMVA)\n",
    "print(np.max(test_e)*baseMVA)\n",
    "test_d = models[0].d[:]()\n",
    "print(np.min(test_d)*baseMVA)\n",
    "print(np.max(test_d)*baseMVA)"
   ]
  },
  {
   "cell_type": "markdown",
   "metadata": {},
   "source": [
    "## Power generation plot\n",
    "### Power generation bar plot"
   ]
  },
  {
   "cell_type": "code",
   "execution_count": null,
   "metadata": {},
   "outputs": [],
   "source": [
    "# Read PG data\n",
    "PG_all_hour = np.zeros((NG, nhours))\n",
    "PG_sum_hour = np.zeros(nhours)\n",
    "PW_f_hour = np.zeros(nhours)\n",
    "\n",
    "for h in range(nhours):\n",
    "    model = models[h]\n",
    "    PG_all = model.PG[:]()\n",
    "    PG_all = np.array(PG_all).reshape(NG)*baseMVA\n",
    "\n",
    "    for i in range(NG):\n",
    "        PG_one = PG_all[i]\n",
    "        PG_all_hour[i, h] = PG_one\n",
    "\n",
    "    PG_sum_hour[h] = np.sum(PG_all_hour[:,h])\n",
    "\n",
    "    # Wind power forecast\n",
    "    # PW_f_hour[h] = np.median(PW_data[h, :])*baseMVA\n",
    "\n",
    "fig = plt.figure(figsize=(12,8), dpi=300)\n",
    "\n",
    "plt.bar(range(nhours), PG_all_hour[0], label=\"Generator 1\")\n",
    "plt.bar(range(nhours), PG_all_hour[1], bottom=PG_all_hour[0], label=\"Generator 2\")\n",
    "plt.bar(range(nhours), PG_all_hour[2], bottom=PG_all_hour[0]+PG_all_hour[1], label=\"Generator 3\")\n",
    "# plt.bar(range(nhours), PW_f_hour, bottom=PG_all_hour[0]+PG_all_hour[1]+PG_all_hour[2], label=\"Wind\")\n",
    "\n",
    "plt.xlabel(\"Hour\", fontsize=20)\n",
    "plt.ylabel(\"Generation (MW)\", fontsize=20)\n",
    "plt.ylim(0, 500)\n",
    "plt.title(\"Generation\", fontsize=20)\n",
    "plt.xticks(fontsize=16)\n",
    "plt.yticks(fontsize=16)\n",
    "plt.legend(fontsize=16)\n",
    "fig_name = figdir+\"Generation.png\"\n",
    "fig.savefig(fig_name, dpi=300)\n",
    "plt.show()"
   ]
  },
  {
   "cell_type": "markdown",
   "metadata": {},
   "source": [
    "### Power generation line plot"
   ]
  },
  {
   "cell_type": "code",
   "execution_count": null,
   "metadata": {},
   "outputs": [],
   "source": [
    "for i in range(NG):\n",
    "    fig = plt.figure(figsize=(12,8), dpi=300)\n",
    "    plt.plot(PG_all_hour[i], linestyle=\"-\", marker=\"o\", color=\"black\", label=\"Baseline generation\")\n",
    "    plt.plot(PG_all_hour[i] + RG_up_all_hour[i, :], linestyle=\"--\", marker=\"o\", color=\"red\", label=\"Maximum generation\")\n",
    "    plt.plot(PG_all_hour[i] - RG_down_all_hour[i, :], linestyle=\"--\", marker=\"o\", color=\"blue\", label=\"Minimum generation\")\n",
    "    plt.fill_between(range(nhours), PG_all_hour[i], PG_all_hour[i] + RG_up_all_hour[i, :], facecolor=\"red\", alpha=0.1)\n",
    "    plt.fill_between(range(nhours), PG_all_hour[i], PG_all_hour[i] - RG_down_all_hour[i, :], facecolor=\"blue\", alpha=0.1)\n",
    "    plt.legend(fontsize=16)\n",
    "    plt.xlabel(\"Hour\", fontsize=20)\n",
    "    plt.ylabel(\"Generation (MW)\", fontsize=20)\n",
    "    plt.title(\"Generator %d - Bus %d\" %((i+1), gen_bus[i]), fontsize=20)\n",
    "    plt.xticks(fontsize=16)\n",
    "    plt.yticks(fontsize=16)\n",
    "    fig_name = figdir+\"PG_RG_up_down_%d\" %i\n",
    "    fig.savefig(fig_name, dpi=300)\n",
    "    plt.show()"
   ]
  },
  {
   "cell_type": "markdown",
   "metadata": {},
   "source": [
    "## Cost plots\n",
    "### Generator cost curve"
   ]
  },
  {
   "cell_type": "code",
   "execution_count": null,
   "metadata": {},
   "outputs": [],
   "source": [
    "# Plot cost curve\n",
    "fig = plt.figure(figsize=(12,8), dpi=300)\n",
    "\n",
    "for i in range(NG):\n",
    "    x = np.linspace(Pmin[i]*baseMVA, Pmax[i]*baseMVA, 1000)\n",
    "    gencost = CG0[i] + CG1[i]/baseMVA * x +  CG2[i]/baseMVA**2 * x**2\n",
    "    plt.plot(x, gencost, label=\"Generator %d\" %(i+1))\n",
    "\n",
    "plt.legend(fontsize=16)\n",
    "plt.xlabel(\"Generation (MW)\", fontsize=20)\n",
    "plt.ylabel(\"Cost ($)\", fontsize=20)\n",
    "plt.title(\"Generator cost curve\", fontsize=20)\n",
    "plt.xticks(fontsize=16)\n",
    "plt.yticks(fontsize=16)\n",
    "fig_name = figdir+\"Gen_cost_curve.png\"\n",
    "fig.savefig(fig_name, dpi=300)\n",
    "plt.show()"
   ]
  },
  {
   "cell_type": "markdown",
   "metadata": {},
   "source": [
    "### Generator marginal cost curve"
   ]
  },
  {
   "cell_type": "code",
   "execution_count": null,
   "metadata": {},
   "outputs": [],
   "source": [
    "# Plot cost curve\n",
    "fig = plt.figure(figsize=(12,8), dpi=300)\n",
    "\n",
    "for i in range(NG):\n",
    "    x = np.linspace(Pmin[i]*baseMVA, Pmax[i]*baseMVA, 1000)\n",
    "    genmc = CG1[i]/baseMVA +  CG2[i]/baseMVA**2 * x\n",
    "    plt.plot(x, genmc, label=\"Generator %d\" %(i+1))\n",
    "\n",
    "plt.legend(fontsize=16)\n",
    "plt.xlabel(\"Generation (MW)\", fontsize=20)\n",
    "plt.ylabel(\"Marginal cost ($/MW)\", fontsize=20)\n",
    "plt.title(\"Generator marginal cost curve\", fontsize=20)\n",
    "plt.xticks(fontsize=16)\n",
    "plt.yticks(fontsize=16)\n",
    "fig_name = figdir+\"Gen_marginal_cost_curve.png\"\n",
    "fig.savefig(fig_name, dpi=300)\n",
    "plt.show()"
   ]
  },
  {
   "cell_type": "code",
   "execution_count": null,
   "metadata": {},
   "outputs": [],
   "source": [
    "# Calculate different costs\n",
    "\n",
    "gen_cost_hour = np.zeros((NG,nhours))\n",
    "gen_r_cost_hour = np.zeros((NG,nhours))\n",
    "load_r_cost_hour = np.zeros((NL,nhours))\n",
    "total_cost_hour = np.zeros(nhours)\n",
    "\n",
    "for h in range(nhours):\n",
    "    gen_cost,gen_r_cost,load_r_cost,total_cost = cost(models[h],CG0,CG1,CG2,CRG_up,CRG_down,CRL_up,CRL_down,NG,NL)\n",
    "    gen_cost_hour[:,h] = gen_cost\n",
    "    gen_r_cost_hour[:,h] = gen_r_cost\n",
    "    load_r_cost_hour[:,h] = load_r_cost\n",
    "    total_cost_hour[h] = total_cost"
   ]
  },
  {
   "cell_type": "markdown",
   "metadata": {},
   "source": [
    "### Generation cost bar plot"
   ]
  },
  {
   "cell_type": "code",
   "execution_count": null,
   "metadata": {},
   "outputs": [],
   "source": [
    "fig = plt.figure(figsize=(12,8), dpi=300)\n",
    "\n",
    "plt.bar(range(nhours), gen_cost_hour[0, :], label=\"Generator 1\")\n",
    "plt.bar(range(nhours), gen_cost_hour[1, :], bottom=gen_cost_hour[0, :], label=\"Generator 2\")\n",
    "plt.bar(range(nhours), gen_cost_hour[2, :], bottom=gen_cost_hour[1, :]+gen_cost_hour[0, :], label=\"Generator 3\")\n",
    "\n",
    "plt.legend(fontsize=16)\n",
    "plt.xticks(fontsize=16)\n",
    "plt.yticks(fontsize=16)\n",
    "plt.ylim(0, 9000)\n",
    "plt.xlabel(\"Hour\", fontsize=20)\n",
    "plt.ylabel(\"Cost ($)\", fontsize=20)\n",
    "plt.title(\"Generator cost\", fontsize=20)\n",
    "fig.savefig(figdir+\"gen_cost.png\", dpi=300)\n",
    "\n",
    "plt.show()"
   ]
  },
  {
   "cell_type": "code",
   "execution_count": null,
   "metadata": {},
   "outputs": [],
   "source": [
    "fig = plt.figure(figsize=(12,8), dpi=300)\n",
    "\n",
    "plt.bar(range(nhours), gen_r_cost_hour[0, :], label=\"Generator 1\")\n",
    "plt.bar(range(nhours), gen_r_cost_hour[1, :], bottom=gen_r_cost_hour[0, :], label=\"Generator 2\")\n",
    "plt.bar(range(nhours), gen_r_cost_hour[2, :], bottom=gen_r_cost_hour[1, :]+gen_r_cost_hour[0, :], label=\"Generator 3\")\n",
    "\n",
    "plt.legend(fontsize=16)\n",
    "plt.xticks(fontsize=16)\n",
    "plt.yticks(fontsize=16)\n",
    "plt.ylim(0, 200)\n",
    "plt.xlabel(\"Hour\", fontsize=20)\n",
    "plt.ylabel(\"Cost ($)\", fontsize=20)\n",
    "plt.title(\"Generator reserve cost\", fontsize=20)\n",
    "fig.savefig(figdir+\"gen_reserve_cost.png\", dpi=300)\n",
    "\n",
    "plt.show()"
   ]
  },
  {
   "cell_type": "code",
   "execution_count": null,
   "metadata": {},
   "outputs": [],
   "source": [
    "fig = plt.figure(figsize=(12,8), dpi=300)\n",
    "\n",
    "plt.bar(range(nhours), load_r_cost_hour[0, :], label=\"Load 1\")\n",
    "plt.bar(range(nhours), load_r_cost_hour[1, :], bottom=load_r_cost_hour[0, :], label=\"Load 2\")\n",
    "plt.bar(range(nhours), load_r_cost_hour[2, :], bottom=load_r_cost_hour[1, :]+load_r_cost_hour[0, :], label=\"Load 3\")\n",
    "\n",
    "plt.legend(fontsize=16)\n",
    "plt.xticks(fontsize=16)\n",
    "plt.yticks(fontsize=16)\n",
    "plt.ylim(0, 200)\n",
    "plt.xlabel(\"Hour\", fontsize=20)\n",
    "plt.ylabel(\"Cost ($)\", fontsize=20)\n",
    "plt.title(\"Load reserve cost\", fontsize=20)\n",
    "fig.savefig(figdir+\"load_reserve_cost.png\", dpi=300)\n",
    "\n",
    "plt.show()"
   ]
  },
  {
   "cell_type": "markdown",
   "metadata": {},
   "source": [
    "### Total cost contribution bar plot"
   ]
  },
  {
   "cell_type": "code",
   "execution_count": null,
   "metadata": {},
   "outputs": [],
   "source": [
    "wind_cost = CW0 + CW1*PW_f_hour\n",
    "total_gen_cost = gen_cost_hour[2, :]+gen_cost_hour[1, :]+gen_cost_hour[0, :]\n",
    "total_gen_r_cost = gen_r_cost_hour[2, :]+gen_r_cost_hour[1, :]+gen_r_cost_hour[0, :]\n",
    "total_load_r_cost = load_r_cost_hour[2, :]+load_r_cost_hour[1, :]+load_r_cost_hour[0, :]\n",
    "total_reserve_cost = total_gen_r_cost + total_load_r_cost\n",
    "\n",
    "fig = plt.figure(figsize=(12,8), dpi=300)\n",
    "plt.bar(range(nhours),total_gen_cost, label=\"Generation cost\")\n",
    "plt.bar(range(nhours),wind_cost, bottom=total_gen_cost, label=\"Expected wind cost\")\n",
    "plt.bar(range(nhours),total_gen_r_cost, bottom=total_gen_cost+wind_cost, label=\"Generation reserve cost\")\n",
    "plt.bar(range(nhours),total_load_r_cost, bottom=total_gen_cost+wind_cost+total_gen_r_cost, label=\"Load reserve cost\")\n",
    "\n",
    "plt.xlabel(\"Hour\", fontsize=20)\n",
    "plt.ylabel(\"Total cost ($)\", fontsize=20)\n",
    "plt.title(\"Contribution of generation and reserves to the total cost\", fontsize=20)\n",
    "plt.legend(fontsize=16)\n",
    "plt.xticks(fontsize=16)\n",
    "plt.yticks(fontsize=16)\n",
    "plt.ylim(0,10000)\n",
    "fig_name = figdir+\"cost_contribution.png\"\n",
    "fig.savefig(fig_name, dpi=300)\n",
    "plt.show()"
   ]
  },
  {
   "cell_type": "code",
   "execution_count": null,
   "metadata": {},
   "outputs": [],
   "source": [
    "print(\"Wind cost = \\n\", wind_cost)\n",
    "print(\"Total generation cost = \\n\", total_gen_cost)\n",
    "print(\"Total generation reserve cost = \\n\", total_gen_r_cost)\n",
    "print(\"Total load reserve cost = \\n\", total_load_r_cost)\n",
    "print(\"Total reserve cost = \\n\", total_reserve_cost)\n",
    "print(\"total cost = \\n\", total_gen_cost + total_gen_r_cost + wind_cost + total_load_r_cost)"
   ]
  },
  {
   "cell_type": "code",
   "execution_count": null,
   "metadata": {},
   "outputs": [],
   "source": [
    "RG_up_all_hour + RL_down_all\n"
   ]
  }
 ],
 "metadata": {
  "interpreter": {
   "hash": "a48edb53158dd8a459f3e7f13fbcd78db9c99f511fd1a201dbc67d4baa3f7a7a"
  },
  "kernelspec": {
   "display_name": "Python 3.9.7 64-bit ('power': conda)",
   "language": "python",
   "name": "python3"
  },
  "language_info": {
   "codemirror_mode": {
    "name": "ipython",
    "version": 3
   },
   "file_extension": ".py",
   "mimetype": "text/x-python",
   "name": "python",
   "nbconvert_exporter": "python",
   "pygments_lexer": "ipython3",
   "version": "3.9.7"
  },
  "orig_nbformat": 4
 },
 "nbformat": 4,
 "nbformat_minor": 2
}
